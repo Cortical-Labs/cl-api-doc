{
 "cells": [
  {
   "cell_type": "markdown",
   "id": "ffd13003",
   "metadata": {},
   "source": [
    "# Detecting and Reacting to Spikes\n",
    "\n",
    "The Loop API allows you easily and quickly react to action potentials (spikes).\n",
    "\n",
    "This toy example loops 1000 times per second for 5 seconds, and stimulates any electrode where a spike is detected:"
   ]
  },
  {
   "cell_type": "code",
   "execution_count": null,
   "id": "d85de762",
   "metadata": {},
   "outputs": [],
   "source": [
    "import cl\n",
    "\n",
    "with cl.open() as neurons:\n",
    "    for tick in neurons.loop(ticks_per_second=1000, stop_after_seconds=5):\n",
    "        for spike in tick.analysis.spikes:\n",
    "            neurons.stimulate(spike.channel, current_uA=1)"
   ]
  },
  {
   "cell_type": "markdown",
   "id": "e5fc3e9b",
   "metadata": {},
   "source": [
    "Each iteration makes detected action potentials and other data available via the tick object. This makes it easy to embody your lab-grown brain cells within a closed loop simulation:"
   ]
  },
  {
   "cell_type": "code",
   "execution_count": null,
   "id": "1c838ed7",
   "metadata": {},
   "outputs": [],
   "source": [
    "import cl\n",
    "\n",
    "with cl.open() as neurons:\n",
    "    \n",
    "    # TODO: Initialise a simulated environment\n",
    "\n",
    "    # Now run the closed loop\n",
    "    for tick in neurons.loop(ticks_per_second=100):\n",
    " \n",
    "        # TODO: Use tick.analysis.spikes to update the simulated environment\n",
    "\n",
    "        # TODO: Break from loop if simulation is complete\n",
    "            \n",
    "        # TODO: Schedule electrode stimulation based on the new simualtion state"
   ]
  },
  {
   "cell_type": "markdown",
   "id": "fe32836d",
   "metadata": {},
   "source": [
    "## Spike Objects\n",
    "\n",
    "A `Spike` object is created for each spike detected by the system, and these are placed in a list at `tick.analysis.spikes`. Spike objects expose the following properties:\n",
    "\n",
    "| Property | Data |\n",
    "|-|-|\n",
    "| `channel` | Which channel the spike was detected on |\n",
    "| `timestamp` | Timestamp of the sample that triggered the detection of the spike |\n",
    "| `samples` | Numpy array of 75 floating point µV sample values around timestamp |\n",
    "\n",
    "Note that `samples` provides 1ms of sample values before, and 2ms **from** the moment of detection. As it is common for a loop body to process a detected spike within 2ms of it occuring, the `samples` data is loaded only on request. Be aware that accessing `spike.samples` before 2ms has passed will block until the requested data is available, i.e. your code could wait for up to 2ms.\n",
    "\n",
    "Sample values are provided in floating point µV, and have been offset by the rolling mean sample value of the channel to centre the waveform around zero.\n",
    "\n",
    "In practice, spike sample data is rarely needed at runtime and is better analysed from a recording, or live visualised from the built-in `cl_spikes` data stream.\n",
    "\n",
    "This example waits for some spikes, then prints and plots the largest one:"
   ]
  },
  {
   "cell_type": "code",
   "execution_count": 1,
   "id": "8d6eba2c",
   "metadata": {
    "scrolled": false
   },
   "outputs": [
    {
     "name": "stdout",
     "output_type": "stream",
     "text": [
      "Spike detected on channel 36 at timestamp 263803320.\n",
      "\n",
      "75 Spike µV values (25 before + 50 from):\n",
      "\n",
      "[  -2.34   -9.55  -36.07   -9.75    4.09    3.7     8.58   -8.97    3.31\n",
      "   11.5    11.7     0.     -0.78    7.6    -6.24    2.73   -0.19  -24.96\n",
      "   -3.9   -12.87    2.34    3.9    13.26   36.07   51.48   90.28  142.93\n",
      "  156.    139.03  105.3    73.71   10.72  -75.66 -128.7  -133.96 -164.19\n",
      " -223.08 -250.38 -214.5  -153.66  -95.94  -71.76  -46.99  -16.97    0.78\n",
      "    7.6     0.78   16.97   13.84   20.86   41.14   37.05   36.66   50.5\n",
      "   60.06   42.9    52.84   46.02   33.74   38.81   48.94   38.02   30.42\n",
      "   25.35   10.72   14.43    2.92    4.09   20.08   -3.9     2.92    0.19\n",
      "    6.82   -0.19    0.19]\n"
     ]
    },
    {
     "data": {
      "image/png": "[encoded data removed]",
      "text/plain": [
       "<Figure size 600x200 with 1 Axes>"
      ]
     },
     "metadata": {},
     "output_type": "display_data"
    }
   ],
   "source": [
    "import cl\n",
    "import numpy as np\n",
    "\n",
    "from cl.util import plot_spike\n",
    "\n",
    "with cl.open() as neurons:\n",
    "    for tick in neurons.loop(ticks_per_second=1):\n",
    "        spike = \\\n",
    "            max(\n",
    "                tick.analysis.spikes,\n",
    "                key=lambda spike: max(spike.samples) - min(spike.samples),\n",
    "                default=None\n",
    "                )\n",
    "        if spike is None:\n",
    "            continue\n",
    "\n",
    "        print(f\"Spike detected on channel {spike.channel} at \"\n",
    "              f\"timestamp {spike.timestamp}.\\n\")\n",
    "\n",
    "        print(\"75 Spike µV values (25 before + 50 from):\\n\")\n",
    "        \n",
    "        # \n",
    "        np.set_printoptions(precision=2, suppress=True)\n",
    "        print(spike.samples)\n",
    "\n",
    "        plot_spike(spike)\n",
    "        break\n"
   ]
  },
  {
   "cell_type": "markdown",
   "id": "c1d4381d",
   "metadata": {},
   "source": [
    "# Timing Accuracy\n",
    "\n",
    "To demonstrate the accuracy of CL API loop timing, this example runs at 1000 Hz and measures the intervals between loop ticks:"
   ]
  },
  {
   "cell_type": "code",
   "execution_count": null,
   "id": "b09d0237",
   "metadata": {},
   "outputs": [],
   "source": [
    "import cl\n",
    "import time\n",
    "import numpy as np\n",
    "\n",
    "RUN_FOR_SECONDS  = 30\n",
    "TICKS_PER_SECOND = 1000\n",
    "RUN_FOR_TICKS    = RUN_FOR_SECONDS * TICKS_PER_SECOND\n",
    "PERCENTILES      = [0.001, 0.01, 0.1, 1, 99, 99.9, 99.99, 99.999]\n",
    "\n",
    "def loop_timing_test():    \n",
    "    \"\"\" Measure loop timing accuracy when using the CL Loop API. \"\"\"\n",
    "    \n",
    "    loop_times_ns = np.empty(RUN_FOR_TICKS, dtype=int)\n",
    "    spike_count   = 0\n",
    "\n",
    "    with cl.open() as neurons:\n",
    "        \n",
    "        # Execute a loop that periodically returns spikes,\n",
    "        # stims, and raw electrode data\n",
    "        for tick in neurons.loop(\n",
    "                        TICKS_PER_SECOND,\n",
    "                        stop_after_ticks=RUN_FOR_TICKS,\n",
    "                        ignore_jitter=True\n",
    "                        ):\n",
    "            \n",
    "            # Capture the time that this loop iteration executes\n",
    "            loop_times_ns[tick.iteration] = time.monotonic_ns()\n",
    "            \n",
    "            # Track the total number of spikes detected\n",
    "            spike_count += len(tick.analysis.spikes)    \n",
    "    \n",
    "    # The loop is complete.\n",
    "    # Now, report on loop interval times.\n",
    "    \n",
    "    intervals_us = np.diff(loop_times_ns) / 1000\n",
    "    mean_us      = np.mean(intervals_us)\n",
    "    min_us       = np.min(intervals_us)\n",
    "    max_us       = np.max(intervals_us)\n",
    "    percentiles  = \\\n",
    "        [(p, np.percentile(intervals_us, p)) for p in PERCENTILES]\n",
    "\n",
    "    print(f\"Ran WITH CL API for {RUN_FOR_SECONDS} seconds \"\n",
    "          f\"at {TICKS_PER_SECOND} ticks per second \"\n",
    "          f\"and {spike_count / RUN_FOR_SECONDS:.3f} spikes per second.\")\n",
    "\n",
    "    print(f\"\\nMean interval: {mean_us:.3f} µs, \"\n",
    "          f\"(min: {min_us:.3f} µs, max: {max_us:.3f} µs)\\n\")\n",
    "\n",
    "    print(\"Percentiles:\\n\")\n",
    "    for percentile, value in percentiles:\n",
    "        print(f\"{percentile:>6.3f}: {value:>4.3f} µs\")\n",
    "\n",
    "loop_timing_test()"
   ]
  },
  {
   "cell_type": "markdown",
   "id": "2e280724",
   "metadata": {},
   "source": [
    "The timing interval accuracy is slightly affected by the level of spike activity, as a Python object is created for each detected spike. When detecting hundreds of spikes per second, you can expect the interval to remain within about 30µs of target at tick rates of 25-12500 ticks per second. At thousands of spikes per second, a tick rate of 100 or higher may be needed to remain within 30µs of target.\n",
    "\n",
    "Normally, a python process cannot achieve reliable timings without complex system administration work. When using the CL API on a Cortical Labs device, this is handled for you automatically whenever you have taken control of the device by calling `cl.open()`.\n",
    "\n",
    "The following example demonstrates that loop interval accuracy **without** using the CL API is significantly worse, at times drifting by several milliseconds:"
   ]
  },
  {
   "cell_type": "code",
   "execution_count": null,
   "id": "bb56462b",
   "metadata": {},
   "outputs": [],
   "source": [
    "import time\n",
    "import numpy as np\n",
    "import gc\n",
    "\n",
    "#\n",
    "# Measure loop timing accuracy when using NOT the CL API.\n",
    "#\n",
    "# Spoiler: it's not good\n",
    "#\n",
    "\n",
    "RUN_FOR_SECONDS  = 30\n",
    "TICKS_PER_SECOND = 1000\n",
    "INTERVAL_NS      = 1e9 / TICKS_PER_SECOND\n",
    "RUN_FOR_TICKS    = RUN_FOR_SECONDS * TICKS_PER_SECOND\n",
    "PERCENTILES      = [0.001, 0.01, 0.1, 1, 99, 99.9, 99.99, 99.999]\n",
    "\n",
    "def loop_timing_test():\n",
    "    \"\"\" Measure loop timing accuracy when using a hot loop. \"\"\"\n",
    "\n",
    "    loop_times_ns = np.empty(RUN_FOR_TICKS, dtype=int)    \n",
    "    next_tick_ns  = time.monotonic_ns() + INTERVAL_NS\n",
    "\n",
    "    for i in range(RUN_FOR_TICKS):\n",
    "        \n",
    "        # Hot-loop until it is time for the next tick.\n",
    "        # Sleeping would be an even worse result.\n",
    "        while time.monotonic_ns() < next_tick_ns:\n",
    "            pass\n",
    "        \n",
    "        # Capture the time\n",
    "        loop_times_ns[i] = time.monotonic_ns()\n",
    "        \n",
    "        # Prepare the next deadline\n",
    "        next_tick_ns += INTERVAL_NS    \n",
    "    \n",
    "    # The loop is complete.\n",
    "    # Now, report on loop interval times.\n",
    "    \n",
    "    intervals_us = np.diff(loop_times_ns) / 1000\n",
    "    mean_us      = np.mean(intervals_us)\n",
    "    min_us       = np.min(intervals_us)\n",
    "    max_us       = np.max(intervals_us)\n",
    "    percentiles  = \\\n",
    "        [(p, np.percentile(intervals_us, p)) for p in PERCENTILES]\n",
    "\n",
    "    print(f\"Ran for {RUN_FOR_SECONDS} seconds, \"\n",
    "          f\"at {TICKS_PER_SECOND} ticks per second\")\n",
    "\n",
    "    print(f\"\\nMean interval: {mean_us:.3f} µs, \"\n",
    "          f\"(min: {min_us:.3f} µs, max: {max_us:.3f} µs)\\n\")\n",
    "\n",
    "    print(\"Percentiles:\\n\")\n",
    "    for percentile, value in percentiles:\n",
    "        print(f\"{percentile:>6.3f}: {value:>4.3f} µs\")\n",
    "\n",
    "try:\n",
    "    # Stop garbage collection from interfering with our test\n",
    "    gc.disable()\n",
    "    loop_timing_test()\n",
    "        \n",
    "finally:\n",
    "    gc.enable()"
   ]
  },
  {
   "cell_type": "markdown",
   "id": "39cb091d",
   "metadata": {},
   "source": [
    "\n",
    "\n",
    "## Loop Timing Stability and Jitter\n",
    "\n",
    "It is often important to your loop design that your code executes within a controlled amount of time from events occuring on the MEA. Delays in your loop body code could cause processing of subsequent ticks to progressively fall behind. In designs where stimulation is adjusted immediately in response to simulation changes, the result is an inconsistent latency from spike-to-stim, which impacts the consistency of the presentation of information to the cells.\n",
    "\n",
    "To avoid this issue, the Loop API raises an error by default when the code in your loop body has taken too long to execute. This provides a more consistent latency between spike activity and the resulting stimulation. The following example illustrates this protection:"
   ]
  },
  {
   "cell_type": "code",
   "execution_count": null,
   "id": "ff696d1a",
   "metadata": {},
   "outputs": [],
   "source": [
    "import cl\n",
    "import time\n",
    "\n",
    "with cl.open() as neurons:\n",
    "    for tick in neurons.loop(ticks_per_second=1000):\n",
    "        # Our loop body has 1 second / 1000 to execute\n",
    "        # (minus Loop API overheads). Therefore we can\n",
    "        # trigger the jitter protection by waiting for\n",
    "        # at least 1ms.\n",
    "        time.sleep(1 / 1000)"
   ]
  },
  {
   "cell_type": "markdown",
   "id": "809976bc",
   "metadata": {},
   "source": [
    "---\n",
    "It is possible to allow a specific amount of jitter by passing `jitter_tolerance_frames=x` to `neurons.loop()`, where `x` is the number of additional frames a loop body can execute for without raising a TimeoutError. Further, `ignore_jitter=True` will disable the jitter check entirely.\n",
    "\n",
    "However, any additional time taken needs to be 'paid back' by other iterations taking less than the full amount of time. Otherwise the cumulative delay builds over time and eventually exeeds the live read buffer size of about 5 seconds:"
   ]
  },
  {
   "cell_type": "code",
   "execution_count": null,
   "id": "b2b40fc8",
   "metadata": {},
   "outputs": [],
   "source": [
    "import cl\n",
    "import time\n",
    "\n",
    "from cl.util import ordinal\n",
    "\n",
    "TICKS_PER_SECOND=100\n",
    "\n",
    "with cl.open() as neurons:\n",
    "    try:\n",
    "        for tick in neurons.loop(TICKS_PER_SECOND, ignore_jitter=True):\n",
    "            # Fall behind by taking at least double the allowed time\n",
    "            time.sleep(1 / TICKS_PER_SECOND * 2)\n",
    "    except:\n",
    "        now               = neurons.timestamp()\n",
    "        frames_per_second = neurons.get_frames_per_second()\n",
    "        behind_seconds    = (now - tick.timestamp) / frames_per_second\n",
    "        print(\n",
    "            f\"Loop failed on {ordinal(tick.iteration + 1)} iteration \"\n",
    "            f\"after falling {behind_seconds} seconds behind.\")\n",
    "        raise"
   ]
  },
  {
   "cell_type": "markdown",
   "id": "3ea9d415",
   "metadata": {},
   "source": [
    "## Ignoring Jitter\n",
    "\n",
    "It is generally recommended that jitter tolerance be left at the default of zero frames, or failing that, allow only a small amount of jitter (remember that each frame is 40µs). Designs that work with the default jitter tolerance will work more reliably over longer periods of time.\n",
    "\n",
    "However, there are exceptions. For example, you might want to process live spikes on another machine on the network. If the goal is to react to spikes as quickly as possible, it is desirable to run the loop at its fastest speed: 25000 ticks per second, 40µs per tick. Accounting for loop overheads, this is not enough time to assemble a UDP payload and send it.\n",
    "\n",
    "The answer in this case is to ignore jitter. This lets the loop take as long as it needs to send the packet, and then quickly catches up between spikes. The following example sends a UDP packet for each tick containing spikes.\n",
    "\n",
    "Before running it, you can open the [Appendix A. UDP Spike Receiver](CL-01A.%20Detecting%20and%20Reacting%20to%20Spikes.%20Appendix%20A.%20UDP%20Spike%20Receiver.ipynb) notebook in another window to watch the spike information arriving."
   ]
  },
  {
   "cell_type": "code",
   "execution_count": null,
   "id": "35803223",
   "metadata": {},
   "outputs": [],
   "source": [
    "import socket\n",
    "import struct\n",
    "import cl\n",
    "\n",
    "from cl.util import Benchmark\n",
    "\n",
    "# We'll UDP send packets to port 12345 on localhost.\n",
    "PEER = (\"127.0.0.1\", 12345)\n",
    "\n",
    "udp_socket = socket.socket(socket.AF_INET, socket.SOCK_DGRAM)\n",
    "\n",
    "with cl.open() as neurons:\n",
    "    for tick in neurons.loop(\n",
    "                    ticks_per_second=25000,\n",
    "                    ignore_jitter=True,\n",
    "                    stop_after_seconds=10):\n",
    "        \n",
    "        spikes = tick.analysis.spikes\n",
    "        if spikes:\n",
    "            \n",
    "            # Create and send a binary payload containing\n",
    "            # the spike timestamps and channels.\n",
    "            \n",
    "            first_spike = spikes[0]\n",
    "            payload = struct.pack('<QB', first_spike.timestamp, first_spike.channel)\n",
    "            \n",
    "            if len(spikes) > 1:\n",
    "                # Multiple spikes at the same timestamp, we add an extra byte for\n",
    "                # each channel. A bitmask would be more efficient but less clear.\n",
    "                payload = bytearray(payload)\n",
    "                payload.extend([spike.channel for spike in spikes[1:]])\n",
    "                \n",
    "            udp_socket.sendto(payload, PEER)\n"
   ]
  },
  {
   "cell_type": "markdown",
   "id": "a41f45d3",
   "metadata": {},
   "source": [
    "## Next\n",
    "\n",
    "[Recording](CL-02.%20Recording.ipynb)"
   ]
  }
 ],
 "metadata": {
  "kernelspec": {
   "display_name": "Python 3 (ipykernel)",
   "language": "python",
   "name": "python3"
  },
  "language_info": {
   "codemirror_mode": {
    "name": "ipython",
    "version": 3
   },
   "file_extension": ".py",
   "mimetype": "text/x-python",
   "name": "python",
   "nbconvert_exporter": "python",
   "pygments_lexer": "ipython3",
   "version": "3.10.6"
  }
 },
 "nbformat": 4,
 "nbformat_minor": 5
}
