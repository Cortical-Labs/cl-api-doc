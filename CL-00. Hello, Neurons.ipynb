{
 "cells": [
  {
   "cell_type": "markdown",
   "id": "4b833a42",
   "metadata": {},
   "source": [
    "# Hello, Neurons.\n",
    "\n",
    "Say hello to some neurons with a small amount of electrical stimulation! Keep the visualiser visible, and run this cell to stimulate a **channel** with one microampere of electrical current in each polarity:\n",
    "\n",
    "For those new to Jupyter notebooks, to run the cell you can click on the code and then press CTRL+Enter (or control+return)."
   ]
  },
  {
   "cell_type": "code",
   "execution_count": null,
   "id": "3be125d5",
   "metadata": {},
   "outputs": [],
   "source": [
    "import cl\n",
    "\n",
    "with cl.open() as neurons:\n",
    "    # Stimulate channel 27 with 180µs of -1.5µA, then 180µs of +1.5µA.\n",
    "    neurons.stim(\n",
    "        cl.ChannelSet(27),\n",
    "        cl.StimDesign(180, -1.5, 180, 1.5))"
   ]
  },
  {
   "cell_type": "markdown",
   "id": "c299919d",
   "metadata": {},
   "source": [
    "Each time you run this code, you'll see stimulation activity in a channel near the centre of the visualiser. You may also notice a change in the behaviour of nearby neurons."
   ]
  },
  {
   "cell_type": "markdown",
   "id": "4bb961cb",
   "metadata": {},
   "source": [
    "## Breaking it Down\n",
    "\n",
    "The program begins by importing the Cortical Labs API - `import cl`.\n",
    "\n",
    "It then goes on to call `cl.open()`, which returns a context managed connection to the hardware that directly interacts with the neurons living on your electrode array. This connection will be automatically closed after the code within the `with` context.\n",
    "\n",
    "Finally it calls a simple stimulation method to inject 1µA of negative current for 160µs and then 1µA of positive current for 160µs for a balanced charge."
   ]
  },
  {
   "cell_type": "markdown",
   "id": "59015ebf",
   "metadata": {},
   "source": [
    "# What is a Channel?\n",
    "\n",
    "A channel is an interface to a single electrode on the MEA. Each channel is sampled 25000 times a second - once every 40µs. Each channel may also be used independently and concurrently to inject current based electrical stimulation.\n",
    "\n",
    "When using the default MEA hardware, the channels map to physical layout electrodes like this:\n",
    "\n",
    "<table style=\"border: 1px solid black\">\n",
    "    <tr>\n",
    "        <td style=\"text-align: center; border-bottom: 1px solid black;\" colspan=\"8\">Default MEA Channel Layout</td>\n",
    "    </tr>\n",
    "    <tr>\n",
    "        <td style=\"width: 32px;\">0</td>\n",
    "        <td style=\"width: 32px;\">8</td>\n",
    "        <td style=\"width: 32px;\">16</td>\n",
    "        <td style=\"width: 32px;\">24</td>\n",
    "        <td style=\"width: 32px;\">32</td>\n",
    "        <td style=\"width: 32px;\">40</td>\n",
    "        <td style=\"width: 32px;\">48</td>\n",
    "        <td style=\"width: 32px;\">56</td>\n",
    "    </tr>\n",
    "    <tr>\n",
    "        <td>1</td><td>9</td><td>17</td><td>25</td><td>33</td><td>41</td><td>49</td><td>57</td>\n",
    "    </tr>\n",
    "    <tr>\n",
    "        <td>2</td><td>10</td><td>18</td><td>26</td><td>34</td><td>42</td><td>50</td><td>58</td>\n",
    "    </tr>\n",
    "    <tr>\n",
    "        <td>3</td><td>11</td><td>19</td><td>27</td><td>35</td><td>43</td><td>51</td><td>59</td>\n",
    "    </tr>\n",
    "    <tr>\n",
    "        <td>4</td><td>12</td><td>20</td><td>28</td><td>36</td><td>44</td><td>52</td><td>60</td>\n",
    "    </tr>\n",
    "    <tr>\n",
    "        <td>5</td><td>13</td><td>21</td><td>29</td><td>37</td><td>45</td><td>53</td><td>61</td>\n",
    "    </tr>\n",
    "    <tr>\n",
    "        <td>6</td><td>14</td><td>22</td><td>30</td><td>38</td><td>46</td><td>54</td><td>62</td>\n",
    "    </tr>\n",
    "    <tr>\n",
    "        <td>7</td><td>15</td><td>23</td><td>31</td><td>39</td><td>47</td><td>55</td><td>63</td>\n",
    "    </tr>\n",
    "</table>\n",
    "\n",
    "Channels 0, 7, 56, and 63 are not used. Channel 4 is the **reference channel** against which all other channels are measured."
   ]
  },
  {
   "cell_type": "markdown",
   "id": "22d82fca",
   "metadata": {},
   "source": [
    "## Multiple Channels\n",
    "\n",
    "It is possible to stimulate multiple channels at exactly the same time:"
   ]
  },
  {
   "cell_type": "code",
   "execution_count": null,
   "id": "e6f0acab",
   "metadata": {},
   "outputs": [],
   "source": [
    "import cl\n",
    "\n",
    "with cl.open() as neurons:\n",
    "    # Stimulate multiple channels with 180µs of -1.5µA, then 180µs of +1.5µA.\n",
    "    neurons.stim(\n",
    "        cl.ChannelSet(27, 28, 35, 36),\n",
    "        cl.StimDesign(180, -1.5, 180, 1.5))"
   ]
  },
  {
   "cell_type": "markdown",
   "id": "36045f4a",
   "metadata": {},
   "source": [
    "The `channels` argument accepts one of (tuple, list, numpy array) for multiple channels, or an `int` for a single channel."
   ]
  },
  {
   "cell_type": "markdown",
   "id": "63987ebc",
   "metadata": {},
   "source": [
    "## Bursts\n",
    "\n",
    "The basic stimulation function supports the ability to send a controlled burst of stimulation on one or more channels. This example sends a burst of simultaneous stimulations on a multiple channels at a rate of 50Hz:"
   ]
  },
  {
   "cell_type": "code",
   "execution_count": null,
   "id": "798f36d4",
   "metadata": {},
   "outputs": [],
   "source": [
    "import cl\n",
    "\n",
    "with cl.open() as neurons:\n",
    "    # Stimulate multiple channels with a burst of 14 triphasic stims at 50Hz.\n",
    "    neurons.stim(\n",
    "        cl.ChannelSet(27, 28, 35, 36),\n",
    "        cl.StimDesign(160, -2, 320, 1, 160, -2),\n",
    "        cl.BurstDesign(14, 50))"
   ]
  },
  {
   "cell_type": "markdown",
   "id": "c7445885",
   "metadata": {},
   "source": [
    "## Next\n",
    "\n",
    "While the `stim()` method presented above provides a convenient interface for ad-hoc stimulation, a much more powerful `StimPlan` subsystem provides the ability to schedule intricate and orchestrated stimulation. This will be documented soon.\n",
    "\n",
    "Continue to [Detecting and Reacting to Spikes](CL-01.%20Detecting%20and%20Reacting%20to%20Spikes.ipynb)."
   ]
  }
 ],
 "metadata": {
  "kernelspec": {
   "display_name": "Python 3 (ipykernel)",
   "language": "python",
   "name": "python3"
  },
  "language_info": {
   "codemirror_mode": {
    "name": "ipython",
    "version": 3
   },
   "file_extension": ".py",
   "mimetype": "text/x-python",
   "name": "python",
   "nbconvert_exporter": "python",
   "pygments_lexer": "ipython3",
   "version": "3.10.6"
  }
 },
 "nbformat": 4,
 "nbformat_minor": 5
}
