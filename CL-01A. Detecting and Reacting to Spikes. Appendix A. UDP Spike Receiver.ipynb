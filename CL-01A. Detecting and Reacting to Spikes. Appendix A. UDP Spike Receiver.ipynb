{
 "cells": [
  {
   "cell_type": "code",
   "execution_count": null,
   "id": "d3320ce2",
   "metadata": {
    "scrolled": true
   },
   "outputs": [],
   "source": [
    "#\n",
    "# CL-01A. Detecting and Reacting to Spikes. Appendix A. UDP Spike Receiver\n",
    "#\n",
    "# This example program waits for and displays UDP packets of spike\n",
    "# information sent by an example in CL-01.\n",
    "#\n",
    "# We will likely add first-class feature support for this at a lower layer.\n",
    "# This will allow a design where the CL API application registers the remote\n",
    "# host as a target for a 'spike firehose', and then opens a socket to listen\n",
    "# to reply packets which it then translates into stimulation api calls.\n",
    "#\n",
    "\n",
    "import socket\n",
    "import struct\n",
    "\n",
    "# Listen to UDP port 12345 on all addresses\n",
    "udp_socket = socket.socket(socket.AF_INET, socket.SOCK_DGRAM)\n",
    "udp_socket.bind((\"0.0.0.0\", 12345))\n",
    "\n",
    "# 8-byte uint timestamp, 1-byte uint for each channel\n",
    "TIMESTAMP_SIZE_BYTES = 8\n",
    "CHANNEL_SIZE_BYTES   = 1\n",
    "MIN_PACKET_SIZE      = TIMESTAMP_SIZE_BYTES + CHANNEL_SIZE_BYTES\n",
    "\n",
    "while True:\n",
    "    # Receive a UDP packet from the network\n",
    "    data, _ = udp_socket.recvfrom(1500)\n",
    "    \n",
    "    # basic sanity check\n",
    "    if len(data) < MIN_PACKET_SIZE:\n",
    "        print(f\"Ignoring {len(data)} byte packet - too small\")\n",
    "        continue\n",
    "    \n",
    "    timestamp    = struct.unpack('<Q', data[0:TIMESTAMP_SIZE_BYTES])[0]\n",
    "    channels     = \", \".join([str(channel) for channel in data[TIMESTAMP_SIZE_BYTES:]])\n",
    "    \n",
    "    print(f\"Spike timestamp {timestamp}, channels: {channels}\")\n"
   ]
  }
 ],
 "metadata": {
  "kernelspec": {
   "display_name": "Python 3 (ipykernel)",
   "language": "python",
   "name": "python3"
  },
  "language_info": {
   "codemirror_mode": {
    "name": "ipython",
    "version": 3
   },
   "file_extension": ".py",
   "mimetype": "text/x-python",
   "name": "python",
   "nbconvert_exporter": "python",
   "pygments_lexer": "ipython3",
   "version": "3.13.5"
  }
 },
 "nbformat": 4,
 "nbformat_minor": 5
}
