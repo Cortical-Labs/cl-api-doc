{
 "cells": [
  {
   "cell_type": "markdown",
   "id": "4bb961cb",
   "metadata": {},
   "source": [
    "# Reading Raw Data\n",
    "\n",
    "## Samples, Frames, and Timestamps\n",
    "\n",
    "A **sample** is a 16-bit signed measurement from a single electrode. A **frame** contains a single sample from each of the 64 electrodes. The system runs at a fixed 25,000 frames per second - one every 40 µs.\n",
    "\n",
    "To convert the raw sample value to µV, multiply it by `0.195`.\n",
    "\n",
    "Each frame is allocated a numeric idenfifier called a **timestamp**. Timestamps increase by one for each frame.\n",
    "\n",
    "You can always get the current timestamp by calling `neurons.timestamp()`:"
   ]
  },
  {
   "cell_type": "code",
   "execution_count": 1,
   "id": "e5790036",
   "metadata": {},
   "outputs": [
    {
     "name": "stdout",
     "output_type": "stream",
     "text": [
      "The first timestamp was 596386509,\n",
      "and the second timestamp was 596411510.\n",
      "\n",
      "The difference was 25001.\n"
     ]
    }
   ],
   "source": [
    "import cl\n",
    "import time\n",
    "\n",
    "with cl.open() as neurons:\n",
    "    first_timestamp = neurons.timestamp()\n",
    "    \n",
    "    # Wait for (at least) 1 second\n",
    "    time.sleep(1)\n",
    "    \n",
    "    second_timestamp = neurons.timestamp()\n",
    "    \n",
    "print(f\"The first timestamp was {first_timestamp},\")\n",
    "print(f\"and the second timestamp was {second_timestamp}.\")\n",
    "print()\n",
    "print(f\"The difference was {second_timestamp - first_timestamp}.\")"
   ]
  },
  {
   "cell_type": "markdown",
   "id": "f270fba0",
   "metadata": {},
   "source": [
    "## Reading Live Data\n",
    "\n",
    "An API is provided to read an arbitrary number of frames of raw samples from a recent or future timestamp. For example, to read a single frame from the current timestamp:"
   ]
  },
  {
   "cell_type": "code",
   "execution_count": 2,
   "id": "4d358673",
   "metadata": {},
   "outputs": [
    {
     "name": "stdout",
     "output_type": "stream",
     "text": [
      "[[   0    8   42 -267  185  236  -18    0    2   21  217    4  -50 -110\n",
      "  -179 -176    2  333  -79 -105  287  226 -148   47  236  -12  504  244\n",
      "   -99 -234   85 -148   91  249  -43  217 -147  120    4  150   34  160\n",
      "   -45  368  119  248  -58 -239  119    4  156  -22  136  299  380 -163\n",
      "     0   23  226 -127  267  -36  -77    0]]\n"
     ]
    }
   ],
   "source": [
    "import cl\n",
    "\n",
    "with cl.open() as neurons:\n",
    "    frame = neurons.read(1, neurons.timestamp())\n",
    "\n",
    "print(frame)"
   ]
  },
  {
   "cell_type": "markdown",
   "id": "c9ed4acb",
   "metadata": {},
   "source": [
    "And to read 25,000 frames:"
   ]
  },
  {
   "cell_type": "code",
   "execution_count": 3,
   "id": "7e54a4ff",
   "metadata": {},
   "outputs": [
    {
     "name": "stdout",
     "output_type": "stream",
     "text": [
      "[[  0  21  96 ...   5 -78   0]\n",
      " [  0  13  69 ...  15 -90   0]\n",
      " [  0  22  86 ...  10 -86   0]\n",
      " ...\n",
      " [  0  10  68 ...  26 -98   0]\n",
      " [  0  40  75 ...  42 -88   0]\n",
      " [  0  22  54 ...  42 -83   0]]\n"
     ]
    }
   ],
   "source": [
    "import cl\n",
    "\n",
    "with cl.open() as neurons:\n",
    "    frames = neurons.read(25000, neurons.timestamp())\n",
    "\n",
    "print(frames)"
   ]
  },
  {
   "cell_type": "markdown",
   "id": "0971ef4c",
   "metadata": {},
   "source": [
    "If you run these cells yourself, you'll notice that it takes about a second to read 25,000 frames. That is because we started our read from the current timestamp, which means it had to wait for 25,000 new frames to arrive.\n",
    "\n",
    "It is possible to read from up to 5 seconds in the past:"
   ]
  },
  {
   "cell_type": "code",
   "execution_count": 4,
   "id": "1102558e",
   "metadata": {},
   "outputs": [
    {
     "name": "stdout",
     "output_type": "stream",
     "text": [
      "[[   0   10   21 ...  -35  -68    0]\n",
      " [   0   -4   21 ...   -6  -46    0]\n",
      " [   0   26   85 ...   20  -27    0]\n",
      " ...\n",
      " [   0   49   93 ...   11  -87    0]\n",
      " [   0   55   68 ...    5  -84    0]\n",
      " [   0   34   53 ...   -8 -113    0]]\n"
     ]
    }
   ],
   "source": [
    "import cl\n",
    "\n",
    "with cl.open() as neurons:\n",
    "    frames = neurons.read(25000, neurons.timestamp() - 25000)\n",
    "\n",
    "print(frames)"
   ]
  },
  {
   "cell_type": "markdown",
   "id": "7144bff8",
   "metadata": {},
   "source": [
    "Which you will notice completes immediately.\n",
    "\n",
    "It's also possible to wait for a future timestamp to read from. This example reads a single frame, but waits 25000 frames before doing so:"
   ]
  },
  {
   "cell_type": "code",
   "execution_count": 5,
   "id": "44c99a6b",
   "metadata": {},
   "outputs": [
    {
     "name": "stdout",
     "output_type": "stream",
     "text": [
      "[[   0   64   74 -233  190  252   32    0   72   20  256   84    1  -83\n",
      "  -194 -143   74  364  -58  -66  267  247  -92   83  249   21  520  237\n",
      "   -38 -222  122 -170  162  247  -40  224 -131   58   18  156   46  228\n",
      "    12  347  106  228  -22 -238  139   -4  177   -8  188  368  393 -194\n",
      "     0   34  237  -87  268   52  -83    0]]\n"
     ]
    }
   ],
   "source": [
    "import cl\n",
    "\n",
    "with cl.open() as neurons:\n",
    "    frames = neurons.read(1, neurons.timestamp() + 25000)\n",
    "\n",
    "print(frames)"
   ]
  },
  {
   "cell_type": "markdown",
   "id": "837e5686",
   "metadata": {},
   "source": [
    "## Plotting Something\n",
    "\n",
    "This example captures frames for 10ms (250 frames), and then plots one of the channels the result using matplotlib:"
   ]
  },
  {
   "cell_type": "code",
   "execution_count": 6,
   "id": "94b9e8ef",
   "metadata": {},
   "outputs": [
    {
     "data": {
      "image/png": "[encoded data removed]",
      "text/plain": [
       "<Figure size 1000x600 with 1 Axes>"
      ]
     },
     "metadata": {},
     "output_type": "display_data"
    }
   ],
   "source": [
    "import cl\n",
    "import matplotlib.pyplot as plt\n",
    "\n",
    "CAPTURE_MS     = 10\n",
    "CAPTURE_FRAMES = int(25000 / 1000 * CAPTURE_MS)\n",
    "CHANNEL        = 2\n",
    "\n",
    "with cl.open() as neurons:\n",
    "    frames = neurons.read(CAPTURE_FRAMES, neurons.timestamp())\n",
    "\n",
    "#\n",
    "# Plot one of the channels\n",
    "#\n",
    "\n",
    "channel_frames = frames[:, CHANNEL]\n",
    "\n",
    "plt.figure(figsize=(10, 6))\n",
    "plt.ylim(-750, 750)\n",
    "plt.plot(channel_frames, label=f'Channel {CHANNEL}')\n",
    "plt.title(f'Channel {CHANNEL}')\n",
    "plt.xlabel('Time')\n",
    "plt.show()"
   ]
  },
  {
   "cell_type": "code",
   "execution_count": null,
   "id": "400f18cf",
   "metadata": {},
   "outputs": [],
   "source": []
  }
 ],
 "metadata": {
  "kernelspec": {
   "display_name": "Python 3 (ipykernel)",
   "language": "python",
   "name": "python3"
  },
  "language_info": {
   "codemirror_mode": {
    "name": "ipython",
    "version": 3
   },
   "file_extension": ".py",
   "mimetype": "text/x-python",
   "name": "python",
   "nbconvert_exporter": "python",
   "pygments_lexer": "ipython3",
   "version": "3.10.6"
  }
 },
 "nbformat": 4,
 "nbformat_minor": 5
}
